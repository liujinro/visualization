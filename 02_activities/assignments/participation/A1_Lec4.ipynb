{
 "cells": [
  {
   "cell_type": "markdown",
   "metadata": {},
   "source": [
    "## Lec 4_Notes"
   ]
  },
  {
   "cell_type": "markdown",
   "metadata": {},
   "source": [
    "Activity\n",
    "Data cannot be assessed\n",
    "We need to consider the priority of Accessibility\n",
    "\n",
    "Make information is clear is very important\n",
    "\n",
    "One of the most useful information to evaluate accessibility is Color\n",
    "\n",
    "Low contrast is hard to read and higher contrast can be easily to read\n",
    "\n",
    "\n",
    "Reference\n",
    "https://www.color-blindness.com/coblis-color-blindness-simulator/\n",
    "https://webaim.org/resources/contrastchecker/\n",
    "https://matplotlib.org/stable/users/explain/colors/colormaps.html\n",
    "\n",
    "# Text\n",
    "Labels and legends\n",
    "Fonts and typefaces: text characters/ subset of typeface\n",
    "\n",
    "Typeface: We should avoid overwhelming users by swtiching to many different typefaces\n",
    "\n",
    "Font size and Spacing\n",
    "at least 12 font size: people can read\n",
    "Spacing: monospaced os bigger than proportionally spaced\n",
    "\n"
   ]
  },
  {
   "cell_type": "markdown",
   "metadata": {},
   "source": [
    "## Alt-text\n",
    "\n",
    "# Activity\n",
    "\n",
    "https://www.utm.utoronto.ca/iits/sites/files/iits/styles/full_width_m/public/2022-10/doc-aoda-alt-text.jpg?itok=onCplVrP\n",
    "\n",
    "\n",
    "\"Two scientists working in a laboratory: One, a woman with braided hair wearing a white lab coat and purple gloves, and the other, a man with short hair and a blue polo shirt, are discussing an experiment in front of laboratory equipment and chemical apparatus.\"\n"
   ]
  },
  {
   "cell_type": "markdown",
   "metadata": {},
   "source": [
    "Describe Pictures VS Describe Visualization\n",
    "\n",
    "Based on the reasearch: There are 4 levels of Description\n",
    "\n",
    "1. Describe elments\n",
    "2. Describe data more\n",
    "3. Describe details+visualization\n",
    "4. Describe insights\n",
    "\n"
   ]
  },
  {
   "cell_type": "markdown",
   "metadata": {},
   "source": [
    "# Activity\n",
    "https://podio.com/site/creative-routines\n",
    "\n",
    "Level 1: Focus on Chart Elements\n",
    "The chart is a bar graph displaying the daily routines of famous creatives.\n",
    "The x-axis represents 24 hours, split into AM and PM.\n",
    "Different colors denote various activities (e.g., sleep, creative work, exercise).\n",
    "Level 2: Descriptive Statistics\n",
    "Shows the distribution of time for activities like sleep and work.\n",
    "Highlights maximum and minimum time spent on tasks.\n",
    "Outliers are seen where some individuals have unique schedules.\n",
    "Level 3: Complex Trends and Patterns\n",
    "Common patterns include morning creative work and night sleep.\n",
    "Clusters show structured routines, while exceptions exist.\n",
    "Level 4: Context and Domain Insights\n",
    "Provides insights into the structured schedules of creatives.\n",
    "Balancing work, rest, and leisure is emphasized for productivity.\n",
    "Highlights the subjective nature of creative routines."
   ]
  },
  {
   "cell_type": "markdown",
   "metadata": {},
   "source": [
    "Cost: We need to consider\n",
    "Max Accessbility: Open Access and Creative Common lisenses\n",
    "\n",
    "Doubt: show somebody\n",
    "\n",
    "https://a11y.canada.ca/en/\n",
    "https://www.rgd.ca/resources/accessibility/access \n",
    "\n",
    "Advocacy: In support some goals/supports\n",
    "Peasuasion: Rational appoeal\n",
    "            Moral appeal\n",
    "            Emotion appeal\n",
    "\n"
   ]
  },
  {
   "cell_type": "markdown",
   "metadata": {},
   "source": [
    "Activity: Persuasive visualization\n",
    "\n",
    "Rational Appeal: The diagram provides a detailed, factual representation of how enslaved people were packed into the ship Brooks, offering clear evidence of the inhumane conditions.\n",
    "\n",
    "Moral Appeal: By highlighting the cramped and brutal conditions, the diagram appeals to the audience's sense of justice and morality, emphasizing the ethical imperative to end the slave trade.\n",
    "\n",
    "Emotional Appeal: The visual impact of seeing how tightly people were packed evokes strong emotional reactions, such as empathy and outrage, strengthening the call for abolition."
   ]
  },
  {
   "cell_type": "markdown",
   "metadata": {},
   "source": [
    "Differnet message, same visualization\n",
    "\n",
    "Data visualization is the tip of iceberg\n",
    "\n"
   ]
  }
 ],
 "metadata": {
  "kernelspec": {
   "display_name": "Python 3",
   "language": "python",
   "name": "python3"
  },
  "language_info": {
   "codemirror_mode": {
    "name": "ipython",
    "version": 3
   },
   "file_extension": ".py",
   "mimetype": "text/x-python",
   "name": "python",
   "nbconvert_exporter": "python",
   "pygments_lexer": "ipython3",
   "version": "3.9.15"
  }
 },
 "nbformat": 4,
 "nbformat_minor": 2
}
